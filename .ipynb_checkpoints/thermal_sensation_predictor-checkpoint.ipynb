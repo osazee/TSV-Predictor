{
 "cells": [
  {
   "cell_type": "markdown",
   "metadata": {},
   "source": [
    "Importing the relevants libraries"
   ]
  },
  {
   "cell_type": "code",
   "execution_count": 1,
   "metadata": {},
   "outputs": [],
   "source": [
    "import pandas as pd\n",
    "import numpy as np\n",
    "import matplotlib.pyplot as plt\n",
    "from sklearn.model_selection import train_test_split\n",
    "from imblearn.over_sampling import SMOTE, SVMSMOTE, BorderlineSMOTE, ADASYN\n",
    "from sklearn.ensemble import RandomForestClassifier\n",
    "from sklearn.metrics import matthews_corrcoef"
   ]
  },
  {
   "cell_type": "markdown",
   "metadata": {},
   "source": [
    "Preparing the Data"
   ]
  },
  {
   "cell_type": "code",
   "execution_count": 2,
   "metadata": {},
   "outputs": [],
   "source": [
    "# Outlining possible null values in the dataset\n",
    "null_datasets = ['Na','n/a','NAN','NA','/','?']\n",
    "# Loading the datasets and replacing all possible null-value with null-value recognized by dropna.\n",
    "df = pd.read_csv('ashrae_db2.01.csv', na_values=null_datasets, low_memory=False)\n",
    "# Creating a new dataframe with the variables needed for my analysis.\n",
    "# These features selection were based on an analysis done on the Feature Selection TSV Predictor notebook.\n",
    "df1 = df[['Air temperature (F)','Relative humidity (%)','Clo','Air velocity (m/s)',\n",
    " 'Thermal sensation']]\n",
    "# Renaming columns so they can easily be called on.\n",
    "df1.columns = ['T_air','RH','Clo','V_air', 'TS']\n",
    "# Removing the null values.\n",
    "df2 = df1.dropna()\n",
    "# Converting the relevant columns to float and integer.\n",
    "df2 = df2.astype({'T_air':'float','V_air':'float','RH':'float','Clo':'float','TS':'int'})\n"
   ]
  },
  {
   "cell_type": "markdown",
   "metadata": {},
   "source": [
    "Removing Outliers\n"
   ]
  },
  {
   "cell_type": "code",
   "execution_count": 3,
   "metadata": {},
   "outputs": [
    {
     "data": {
      "image/png": "[encoded data removed]",
      "text/plain": [
       "<Figure size 432x288 with 1 Axes>"
      ]
     },
     "metadata": {
      "needs_background": "light"
     },
     "output_type": "display_data"
    }
   ],
   "source": [
    "# Display T_air data in a boxplot.\n",
    "plt.show(plt.boxplot(df2.T_air))"
   ]
  },
  {
   "cell_type": "code",
   "execution_count": 4,
   "metadata": {},
   "outputs": [
    {
     "data": {
      "image/png": "[encoded data removed]",
      "text/plain": [
       "<Figure size 432x288 with 1 Axes>"
      ]
     },
     "metadata": {
      "needs_background": "light"
     },
     "output_type": "display_data"
    }
   ],
   "source": [
    "#Remove the outlier in the T_air column.\n",
    "q1 = np.percentile(df2.T_air, 25)\n",
    "q3 = np.percentile(df2.T_air, 75)\n",
    "IQR = q3 - q1\n",
    "upper_bound = q3+(1.5*IQR)\n",
    "lower_bound = q1-(1.5*IQR)\n",
    "df3 = df2[(df2.T_air>lower_bound) & (df2.T_air<upper_bound)] \n",
    "# Display the new data after removing T_air outliers \n",
    "plt.show(plt.boxplot(df3.T_air))\n"
   ]
  },
  {
   "cell_type": "code",
   "execution_count": 5,
   "metadata": {},
   "outputs": [
    {
     "data": {
      "image/png": "[encoded data removed]",
      "text/plain": [
       "<Figure size 432x288 with 1 Axes>"
      ]
     },
     "metadata": {
      "needs_background": "light"
     },
     "output_type": "display_data"
    }
   ],
   "source": [
    "# Display RH data in a boxplot.\n",
    "plt.show(plt.boxplot(df3.RH))"
   ]
  },
  {
   "cell_type": "code",
   "execution_count": 6,
   "metadata": {},
   "outputs": [
    {
     "data": {
      "image/png": "[encoded data removed]",
      "text/plain": [
       "<Figure size 432x288 with 1 Axes>"
      ]
     },
     "metadata": {
      "needs_background": "light"
     },
     "output_type": "display_data"
    }
   ],
   "source": [
    "#Remove the outlier in the RH column.\n",
    "q3_RH = np.percentile(df3.RH, 75)\n",
    "q1_RH = np.percentile(df3.RH, 25)\n",
    "IQR_RH = q3_RH -q1_RH\n",
    "upper_bound_RH = q3_RH+(IQR_RH*1.5)\n",
    "df4 = df3[(df3.RH<upper_bound_RH)]\n",
    "# Display the new data after removing T_air outliers \n",
    "plt.show(plt.boxplot(df4.RH))   "
   ]
  },
  {
   "cell_type": "markdown",
   "metadata": {},
   "source": [
    "Splitting the new datasets for model usage"
   ]
  },
  {
   "cell_type": "code",
   "execution_count": 7,
   "metadata": {},
   "outputs": [
    {
     "data": {
      "text/plain": [
       "(63687, 4)"
      ]
     },
     "execution_count": 7,
     "metadata": {},
     "output_type": "execute_result"
    }
   ],
   "source": [
    "#Input variables.\n",
    "X = df4[['T_air','RH','V_air','Clo']]\n",
    "#Output variable which is what we are predicting i.e Thermal Sensation\n",
    "y = df4.TS\n",
    "X_train, X_test, y_train, y_test = train_test_split(X, y, test_size=0.2)\n",
    "X_train.shape\n"
   ]
  },
  {
   "cell_type": "markdown",
   "metadata": {},
   "source": [
    "Running model and checking performance"
   ]
  },
  {
   "cell_type": "code",
   "execution_count": 8,
   "metadata": {},
   "outputs": [
    {
     "name": "stdout",
     "output_type": "stream",
     "text": [
      "0.7305605062378597\n",
      "0.6858575546582585\n"
     ]
    }
   ],
   "source": [
    "#over sampling the data using borderlinesmote\n",
    "over_sample = BorderlineSMOTE()\n",
    "X,y = over_sample.fit_resample(X,y)\n",
    "X_train, X_test, y_train, y_test = train_test_split(X, y, test_size=0.2, random_state=42)\n",
    "\n",
    "#running the model using randomforest classifier\n",
    "model = RandomForestClassifier(n_estimators=300)\n",
    "model.fit(X_train, y_train)\n",
    "\n",
    "#checking performance of model\n",
    "print(model.score(X_test, y_test))\n",
    "y_pred = model.predict(X_test)\n",
    "print(matthews_corrcoef(y_test,y_pred))"
   ]
  }
 ],
 "metadata": {
  "interpreter": {
   "hash": "8a9fc4459e8f034d30ccad0577d2529d6706f01b0fd0dd8ff2957d85ffc649e7"
  },
  "kernelspec": {
   "display_name": "Python 3 (ipykernel)",
   "language": "python",
   "name": "python3"
  },
  "language_info": {
   "codemirror_mode": {
    "name": "ipython",
    "version": 3
   },
   "file_extension": ".py",
   "mimetype": "text/x-python",
   "name": "python",
   "nbconvert_exporter": "python",
   "pygments_lexer": "ipython3",
   "version": "3.9.12"
  }
 },
 "nbformat": 4,
 "nbformat_minor": 2
}
