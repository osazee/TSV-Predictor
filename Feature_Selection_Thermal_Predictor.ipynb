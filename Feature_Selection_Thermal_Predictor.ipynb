{
 "cells": [
  {
   "cell_type": "code",
   "execution_count": 18,
   "id": "4dbd5ad8",
   "metadata": {},
   "outputs": [],
   "source": [
    "import pandas as pd\n",
    "import numpy as np\n",
    "import matplotlib.pyplot as plt\n",
    "from sklearn.model_selection import train_test_split\n",
    "from imblearn.over_sampling import SMOTE, SVMSMOTE, BorderlineSMOTE, ADASYN\n",
    "from sklearn.ensemble import RandomForestClassifier\n",
    "from sklearn.metrics import matthews_corrcoef"
   ]
  },
  {
   "cell_type": "code",
   "execution_count": 19,
   "id": "bcd5fd4e",
   "metadata": {},
   "outputs": [
    {
     "data": {
      "text/plain": [
       "Index(['Publication (Citation)', 'Data contributor', 'Year', 'Season',\n",
       "       'Koppen climate classification', 'Climate', 'City', 'Country',\n",
       "       'Building type', 'Cooling startegy_building level',\n",
       "       'Cooling startegy_operation mode for MM buildings',\n",
       "       'Heating strategy_building level', 'Age', 'Sex', 'Thermal sensation',\n",
       "       'Thermal sensation acceptability', 'Thermal preference',\n",
       "       'Air movement acceptability', 'Air movement preference',\n",
       "       'Thermal comfort', 'PMV', 'PPD', 'SET', 'Clo', 'Met', 'activity_10',\n",
       "       'activity_20', 'activity_30', 'activity_60', 'Air temperature (C)',\n",
       "       'Air temperature (F)', 'Ta_h (C)', 'Ta_h (F)', 'Ta_m (C)', 'Ta_m (F)',\n",
       "       'Ta_l (C)', 'Ta_l (F)', 'Operative temperature (C)',\n",
       "       'Operative temperature (F)', 'Radiant temperature (C)',\n",
       "       'Radiant temperature (F)', 'Globe temperature (C)',\n",
       "       'Globe temperature (F)', 'Tg_h (C)', 'Tg_h (F)', 'Tg_m (C)', 'Tg_m (F)',\n",
       "       'Tg_l (C)', 'Tg_l (F)', 'Relative humidity (%)', 'Humidity preference',\n",
       "       'Humidity sensation', 'Air velocity (m/s)', 'Air velocity (fpm)',\n",
       "       'Velocity_h (m/s)', 'Velocity_h (fpm)', 'Velocity_m (m/s)',\n",
       "       'Velocity_m (fpm)', 'Velocity_l (m/s)', 'Velocity_l (fpm)',\n",
       "       'Subject«s height (cm)', 'Subject«s weight (kg)', 'Blind (curtain)',\n",
       "       'Fan', 'Window', 'Door', 'Heater',\n",
       "       'Outdoor monthly air temperature (C)',\n",
       "       'Outdoor monthly air temperature (F)', 'Database'],\n",
       "      dtype='object')"
      ]
     },
     "execution_count": 19,
     "metadata": {},
     "output_type": "execute_result"
    }
   ],
   "source": [
    "# Outlining possible null values in the dataset\n",
    "null_datasets = ['Na','n/a','NAN','NA','/','?']\n",
    "# loading the datasets and replacing all possible null-value with null-value recognized by dropna\n",
    "df1 = pd.read_csv('ashrae_db2.01.csv', na_values=null_datasets, low_memory=False)\n",
    "df1.columns"
   ]
  },
  {
   "cell_type": "raw",
   "id": "26f6a71c",
   "metadata": {},
   "source": [
    "From the parameters in the header, we would focus on the six basic factors that affects thermal sensation.\n",
    "These include:\n",
    "\n",
    "2. Air temperature\n",
    "1. Humidity\n",
    "5. Clothing insulation\n",
    "4. Air velocity\n",
    "3. Radiant temperature\n",
    "6. Metabolic heat"
   ]
  },
  {
   "cell_type": "code",
   "execution_count": 24,
   "id": "62ffd6a1",
   "metadata": {},
   "outputs": [],
   "source": [
    "df2 = df1[['Air temperature (F)','Relative humidity (%)','Clo','Air velocity (m/s)',\n",
    "          'Radiant temperature (F)', 'Met','Age','Thermal sensation']]\n",
    "df2.columns = ['T_air','RH','Clo','V_air', 'Rad_Temp','Met','TS']\n",
    "df2.head()\n",
    "df3 = df2.dropna()\n",
    "#converting the relevant columns to float and integer\n",
    "df4 = df3.astype({'T_air':'float','RH':'float','Clo':'float','V_air':'float', 'Rad_Temp':'float','Met':'float','TS':'int'})\n"
   ]
  },
  {
   "cell_type": "code",
   "execution_count": 25,
   "id": "667bab6f",
   "metadata": {},
   "outputs": [
    {
     "data": {
      "text/plain": [
       "array([0.18332232, 0.19900289, 0.18674347, 0.13904391, 0.18381077,\n",
       "       0.10807663])"
      ]
     },
     "execution_count": 25,
     "metadata": {},
     "output_type": "execute_result"
    }
   ],
   "source": [
    "#input variable\n",
    "X = df4[['T_air','RH','Clo','V_air', 'Rad_Temp','Met']]\n",
    "#output variable which is what we are predicting i.e Thermal Sensation\n",
    "y = df4.TS\n",
    "X_train, X_test, y_train, y_test = train_test_split(X, y, test_size=0.2, random_state=12)\n",
    "model = RandomForestClassifier(n_estimators=300)\n",
    "model.fit(X_train, y_train)\n",
    "model.feature_importances_"
   ]
  },
  {
   "cell_type": "code",
   "execution_count": 28,
   "id": "859c6ff8",
   "metadata": {},
   "outputs": [
    {
     "data": {
      "text/plain": [
       "<BarContainer object of 6 artists>"
      ]
     },
     "execution_count": 28,
     "metadata": {},
     "output_type": "execute_result"
    },
    {
     "data": {
      "image/png": "[encoded data removed]",
      "text/plain": [
       "<Figure size 432x288 with 1 Axes>"
      ]
     },
     "metadata": {
      "needs_background": "light"
     },
     "output_type": "display_data"
    }
   ],
   "source": [
    "plt.barh(X.columns,model.feature_importances_)"
   ]
  },
  {
   "cell_type": "code",
   "execution_count": null,
   "id": "b250d1ef",
   "metadata": {},
   "outputs": [],
   "source": []
  },
  {
   "cell_type": "code",
   "execution_count": null,
   "id": "c10319a1",
   "metadata": {},
   "outputs": [],
   "source": []
  }
 ],
 "metadata": {
  "kernelspec": {
   "display_name": "Python 3 (ipykernel)",
   "language": "python",
   "name": "python3"
  },
  "language_info": {
   "codemirror_mode": {
    "name": "ipython",
    "version": 3
   },
   "file_extension": ".py",
   "mimetype": "text/x-python",
   "name": "python",
   "nbconvert_exporter": "python",
   "pygments_lexer": "ipython3",
   "version": "3.9.12"
  }
 },
 "nbformat": 4,
 "nbformat_minor": 5
}
